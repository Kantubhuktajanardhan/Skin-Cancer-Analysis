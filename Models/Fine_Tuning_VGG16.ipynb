{
 "cells": [
  {
   "cell_type": "markdown",
   "metadata": {},
   "source": [
    "# Transfer Learning with VGG16\n",
    "\n",
    "In this notebook, I will go over steps to retrain VGG16 net for the skin cancer dataset."
   ]
  },
  {
   "cell_type": "code",
   "execution_count": 1,
   "metadata": {},
   "outputs": [
    {
     "name": "stdout",
     "output_type": "stream",
     "text": [
      "WARNING:tensorflow:From C:\\Users\\janar\\AppData\\Roaming\\Python\\Python311\\site-packages\\keras\\src\\losses.py:2976: The name tf.losses.sparse_softmax_cross_entropy is deprecated. Please use tf.compat.v1.losses.sparse_softmax_cross_entropy instead.\n",
      "\n"
     ]
    }
   ],
   "source": [
    "import os\n",
    "from glob import glob\n",
    "\n",
    "import pandas as pd\n",
    "import numpy as np\n",
    "from sklearn.model_selection import train_test_split\n",
    "from tensorflow.keras.utils import to_categorical  # Updated import statement\n",
    "\n",
    "from keras.preprocessing.image import ImageDataGenerator\n",
    "from keras import layers\n",
    "from keras import Model\n",
    "from keras.applications.vgg16 import VGG16, preprocess_input\n",
    "from keras.optimizers import Adam\n",
    "from keras.callbacks import ReduceLROnPlateau, EarlyStopping\n",
    "\n",
    "%matplotlib inline\n",
    "import matplotlib.pyplot as plt\n"
   ]
  },
  {
   "cell_type": "markdown",
   "metadata": {},
   "source": [
    "## Load in the Dataset"
   ]
  },
  {
   "cell_type": "code",
   "execution_count": 2,
   "metadata": {},
   "outputs": [],
   "source": [
    "X_train = np.load(\"256_192_train.npy\")"
   ]
  },
  {
   "cell_type": "code",
   "execution_count": 3,
   "metadata": {},
   "outputs": [],
   "source": [
    "y_train = np.load(\"train_labels.npy\")"
   ]
  },
  {
   "cell_type": "code",
   "execution_count": 4,
   "metadata": {},
   "outputs": [],
   "source": [
    "X_val = np.load(\"256_192_val.npy\")"
   ]
  },
  {
   "cell_type": "code",
   "execution_count": 5,
   "metadata": {},
   "outputs": [],
   "source": [
    "y_val = np.load(\"val_labels.npy\")"
   ]
  },
  {
   "cell_type": "markdown",
   "metadata": {},
   "source": [
    "## Reshape the Dataset"
   ]
  },
  {
   "cell_type": "code",
   "execution_count": 6,
   "metadata": {},
   "outputs": [
    {
     "data": {
      "text/plain": [
       "((8111, 192, 256, 3), (902, 192, 256, 3))"
      ]
     },
     "execution_count": 6,
     "metadata": {},
     "output_type": "execute_result"
    }
   ],
   "source": [
    "X_train.shape, X_val.shape"
   ]
  },
  {
   "cell_type": "code",
   "execution_count": 7,
   "metadata": {},
   "outputs": [
    {
     "data": {
      "text/plain": [
       "((8111,), (902,))"
      ]
     },
     "execution_count": 7,
     "metadata": {},
     "output_type": "execute_result"
    }
   ],
   "source": [
    "y_train.shape, y_val.shape"
   ]
  },
  {
   "cell_type": "code",
   "execution_count": 8,
   "metadata": {},
   "outputs": [],
   "source": [
    "y_train = to_categorical(y_train)\n",
    "y_val = to_categorical(y_val)"
   ]
  },
  {
   "cell_type": "code",
   "execution_count": 9,
   "metadata": {},
   "outputs": [
    {
     "data": {
      "text/plain": [
       "((8111, 7), (902, 7))"
      ]
     },
     "execution_count": 9,
     "metadata": {},
     "output_type": "execute_result"
    }
   ],
   "source": [
    "y_train.shape, y_val.shape"
   ]
  },
  {
   "cell_type": "markdown",
   "metadata": {},
   "source": [
    "## Load in Pretrained VGG16 Model"
   ]
  },
  {
   "cell_type": "code",
   "execution_count": 10,
   "metadata": {},
   "outputs": [
    {
     "name": "stdout",
     "output_type": "stream",
     "text": [
      "WARNING:tensorflow:From C:\\Users\\janar\\AppData\\Roaming\\Python\\Python311\\site-packages\\keras\\src\\backend.py:1398: The name tf.executing_eagerly_outside_functions is deprecated. Please use tf.compat.v1.executing_eagerly_outside_functions instead.\n",
      "\n",
      "WARNING:tensorflow:From C:\\Users\\janar\\AppData\\Roaming\\Python\\Python311\\site-packages\\keras\\src\\layers\\pooling\\max_pooling2d.py:161: The name tf.nn.max_pool is deprecated. Please use tf.nn.max_pool2d instead.\n",
      "\n"
     ]
    }
   ],
   "source": [
    "pre_trained_model = VGG16(input_shape=(192, 256, 3), include_top=False, weights=\"imagenet\")"
   ]
  },
  {
   "cell_type": "code",
   "execution_count": 11,
   "metadata": {},
   "outputs": [
    {
     "name": "stdout",
     "output_type": "stream",
     "text": [
      "input_1\n",
      "block1_conv1\n",
      "block1_conv2\n",
      "block1_pool\n",
      "block2_conv1\n",
      "block2_conv2\n",
      "block2_pool\n",
      "block3_conv1\n",
      "block3_conv2\n",
      "block3_conv3\n",
      "block3_pool\n",
      "block4_conv1\n",
      "block4_conv2\n",
      "block4_conv3\n",
      "block4_pool\n",
      "block5_conv1\n",
      "block5_conv2\n",
      "block5_conv3\n",
      "block5_pool\n",
      "19\n"
     ]
    }
   ],
   "source": [
    "for layer in pre_trained_model.layers:\n",
    "    print(layer.name)\n",
    "    layer.trainable = False\n",
    "    \n",
    "print(len(pre_trained_model.layers))"
   ]
  },
  {
   "cell_type": "code",
   "execution_count": 12,
   "metadata": {},
   "outputs": [
    {
     "name": "stdout",
     "output_type": "stream",
     "text": [
      "last layer output shape: (None, 6, 8, 512)\n"
     ]
    }
   ],
   "source": [
    "last_layer = pre_trained_model.get_layer('block5_pool')\n",
    "print('last layer output shape:', last_layer.output_shape)\n",
    "last_output = last_layer.output"
   ]
  },
  {
   "cell_type": "markdown",
   "metadata": {},
   "source": [
    "## Define the Model"
   ]
  },
  {
   "cell_type": "code",
   "execution_count": 13,
   "metadata": {},
   "outputs": [],
   "source": [
    "# Flatten the output layer to 1 dimension\n",
    "x = layers.GlobalMaxPooling2D()(last_output)\n",
    "# Add a fully connected layer with 512 hidden units and ReLU activation\n",
    "x = layers.Dense(512, activation='relu')(x)\n",
    "# Add a dropout rate of 0.5\n",
    "x = layers.Dropout(0.5)(x)\n",
    "# Add a final sigmoid layer for classification\n",
    "x = layers.Dense(7, activation='softmax')(x)\n",
    "\n",
    "# Configure and compile the model\n",
    "\n",
    "model = Model(pre_trained_model.input, x)"
   ]
  },
  {
   "cell_type": "code",
   "execution_count": 14,
   "metadata": {},
   "outputs": [
    {
     "name": "stdout",
     "output_type": "stream",
     "text": [
      "WARNING:tensorflow:From C:\\Users\\janar\\AppData\\Roaming\\Python\\Python311\\site-packages\\keras\\src\\optimizers\\__init__.py:309: The name tf.train.Optimizer is deprecated. Please use tf.compat.v1.train.Optimizer instead.\n",
      "\n"
     ]
    }
   ],
   "source": [
    "import tensorflow.keras as keras\n",
    "model.compile(optimizer='adam' , loss = keras.losses.CategoricalCrossentropy() ,metrics = ['accuracy'])"
   ]
  },
  {
   "cell_type": "code",
   "execution_count": 15,
   "metadata": {},
   "outputs": [
    {
     "name": "stdout",
     "output_type": "stream",
     "text": [
      "Model: \"model\"\n",
      "_________________________________________________________________\n",
      " Layer (type)                Output Shape              Param #   \n",
      "=================================================================\n",
      " input_1 (InputLayer)        [(None, 192, 256, 3)]     0         \n",
      "                                                                 \n",
      " block1_conv1 (Conv2D)       (None, 192, 256, 64)      1792      \n",
      "                                                                 \n",
      " block1_conv2 (Conv2D)       (None, 192, 256, 64)      36928     \n",
      "                                                                 \n",
      " block1_pool (MaxPooling2D)  (None, 96, 128, 64)       0         \n",
      "                                                                 \n",
      " block2_conv1 (Conv2D)       (None, 96, 128, 128)      73856     \n",
      "                                                                 \n",
      " block2_conv2 (Conv2D)       (None, 96, 128, 128)      147584    \n",
      "                                                                 \n",
      " block2_pool (MaxPooling2D)  (None, 48, 64, 128)       0         \n",
      "                                                                 \n",
      " block3_conv1 (Conv2D)       (None, 48, 64, 256)       295168    \n",
      "                                                                 \n",
      " block3_conv2 (Conv2D)       (None, 48, 64, 256)       590080    \n",
      "                                                                 \n",
      " block3_conv3 (Conv2D)       (None, 48, 64, 256)       590080    \n",
      "                                                                 \n",
      " block3_pool (MaxPooling2D)  (None, 24, 32, 256)       0         \n",
      "                                                                 \n",
      " block4_conv1 (Conv2D)       (None, 24, 32, 512)       1180160   \n",
      "                                                                 \n",
      " block4_conv2 (Conv2D)       (None, 24, 32, 512)       2359808   \n",
      "                                                                 \n",
      " block4_conv3 (Conv2D)       (None, 24, 32, 512)       2359808   \n",
      "                                                                 \n",
      " block4_pool (MaxPooling2D)  (None, 12, 16, 512)       0         \n",
      "                                                                 \n",
      " block5_conv1 (Conv2D)       (None, 12, 16, 512)       2359808   \n",
      "                                                                 \n",
      " block5_conv2 (Conv2D)       (None, 12, 16, 512)       2359808   \n",
      "                                                                 \n",
      " block5_conv3 (Conv2D)       (None, 12, 16, 512)       2359808   \n",
      "                                                                 \n",
      " block5_pool (MaxPooling2D)  (None, 6, 8, 512)         0         \n",
      "                                                                 \n",
      " global_max_pooling2d (Glob  (None, 512)               0         \n",
      " alMaxPooling2D)                                                 \n",
      "                                                                 \n",
      " dense (Dense)               (None, 512)               262656    \n",
      "                                                                 \n",
      " dropout (Dropout)           (None, 512)               0         \n",
      "                                                                 \n",
      " dense_1 (Dense)             (None, 7)                 3591      \n",
      "                                                                 \n",
      "=================================================================\n",
      "Total params: 14980935 (57.15 MB)\n",
      "Trainable params: 266247 (1.02 MB)\n",
      "Non-trainable params: 14714688 (56.13 MB)\n",
      "_________________________________________________________________\n"
     ]
    }
   ],
   "source": [
    "model.summary()"
   ]
  },
  {
   "cell_type": "markdown",
   "metadata": {},
   "source": [
    "## Training"
   ]
  },
  {
   "cell_type": "markdown",
   "metadata": {},
   "source": [
    "### Feature-Extraction\n",
    "\n",
    "If performing fine tuning directly would result in a huge gradient, so it's better that we perform 3 epochs of feature extraction first so that weights of the final fully connected layer aren't completely random. The intuition for this is that if we don't perform feature-extraction, then the gradient will be too large and will change the pretrained weights too much."
   ]
  },
  {
   "cell_type": "code",
   "execution_count": 16,
   "metadata": {},
   "outputs": [],
   "source": [
    "train_datagen = ImageDataGenerator(rotation_range=60, width_shift_range=0.2, height_shift_range=0.2,\n",
    "                                   shear_range=0.2, zoom_range=0.2, fill_mode='nearest')\n",
    "\n",
    "train_datagen.fit(X_train)\n",
    "\n",
    "val_datagen = ImageDataGenerator()\n",
    "val_datagen.fit(X_val)"
   ]
  },
  {
   "cell_type": "code",
   "execution_count": 17,
   "metadata": {},
   "outputs": [
    {
     "name": "stderr",
     "output_type": "stream",
     "text": [
      "C:\\Users\\janar\\AppData\\Local\\Temp\\ipykernel_6228\\3971016608.py:3: UserWarning: `Model.fit_generator` is deprecated and will be removed in a future version. Please use `Model.fit`, which supports generators.\n",
      "  history = model.fit_generator(train_datagen.flow(X_train,y_train, batch_size=batch_size),\n"
     ]
    },
    {
     "name": "stdout",
     "output_type": "stream",
     "text": [
      "Epoch 1/3\n",
      "WARNING:tensorflow:From C:\\Users\\janar\\AppData\\Roaming\\Python\\Python311\\site-packages\\keras\\src\\utils\\tf_utils.py:492: The name tf.ragged.RaggedTensorValue is deprecated. Please use tf.compat.v1.ragged.RaggedTensorValue instead.\n",
      "\n",
      "WARNING:tensorflow:From C:\\Users\\janar\\AppData\\Roaming\\Python\\Python311\\site-packages\\keras\\src\\engine\\base_layer_utils.py:384: The name tf.executing_eagerly_outside_functions is deprecated. Please use tf.compat.v1.executing_eagerly_outside_functions instead.\n",
      "\n",
      "126/126 [==============================] - 672s 5s/step - loss: 1.1350 - accuracy: 0.6585 - val_loss: 1.0619 - val_accuracy: 0.6406\n",
      "Epoch 2/3\n",
      "126/126 [==============================] - 686s 5s/step - loss: 0.9759 - accuracy: 0.6801 - val_loss: 0.9119 - val_accuracy: 0.6786\n",
      "Epoch 3/3\n",
      "126/126 [==============================] - 690s 5s/step - loss: 0.9330 - accuracy: 0.6842 - val_loss: 0.8862 - val_accuracy: 0.6786\n"
     ]
    }
   ],
   "source": [
    "batch_size = 64\n",
    "epochs = 3\n",
    "history = model.fit_generator(train_datagen.flow(X_train,y_train, batch_size=batch_size),\n",
    "                              epochs = epochs, validation_data = val_datagen.flow(X_val, y_val),\n",
    "                              verbose = 1, steps_per_epoch=(X_train.shape[0] // batch_size), \n",
    "                              validation_steps=(X_val.shape[0] // batch_size))"
   ]
  },
  {
   "cell_type": "markdown",
   "metadata": {},
   "source": [
    "### Fine Tuning Model"
   ]
  },
  {
   "cell_type": "markdown",
   "metadata": {},
   "source": [
    "Let's fine tune the last convolutional block of VGG net. I only use learning_rate = 0.0001 with very high momentum = 0.9 and train for 35 epochs only so that the original weights of pretrained VGG net won't be changed too much. learning_rate_reduction function is used and will halve the learning_rate whenever the validation accuracy plateaus for 3 epochs. "
   ]
  },
  {
   "cell_type": "code",
   "execution_count": 18,
   "metadata": {},
   "outputs": [],
   "source": [
    "for layer in model.layers[:15]:\n",
    "    layer.trainable = False\n",
    "\n",
    "for layer in model.layers[15:]:\n",
    "    layer.trainable = True"
   ]
  },
  {
   "cell_type": "code",
   "execution_count": 19,
   "metadata": {},
   "outputs": [],
   "source": [
    "model.compile(optimizer='adam' , loss = keras.losses.CategoricalCrossentropy() ,metrics = ['accuracy'])"
   ]
  },
  {
   "cell_type": "code",
   "execution_count": 20,
   "metadata": {},
   "outputs": [
    {
     "name": "stdout",
     "output_type": "stream",
     "text": [
      "Model: \"model\"\n",
      "_________________________________________________________________\n",
      " Layer (type)                Output Shape              Param #   \n",
      "=================================================================\n",
      " input_1 (InputLayer)        [(None, 192, 256, 3)]     0         \n",
      "                                                                 \n",
      " block1_conv1 (Conv2D)       (None, 192, 256, 64)      1792      \n",
      "                                                                 \n",
      " block1_conv2 (Conv2D)       (None, 192, 256, 64)      36928     \n",
      "                                                                 \n",
      " block1_pool (MaxPooling2D)  (None, 96, 128, 64)       0         \n",
      "                                                                 \n",
      " block2_conv1 (Conv2D)       (None, 96, 128, 128)      73856     \n",
      "                                                                 \n",
      " block2_conv2 (Conv2D)       (None, 96, 128, 128)      147584    \n",
      "                                                                 \n",
      " block2_pool (MaxPooling2D)  (None, 48, 64, 128)       0         \n",
      "                                                                 \n",
      " block3_conv1 (Conv2D)       (None, 48, 64, 256)       295168    \n",
      "                                                                 \n",
      " block3_conv2 (Conv2D)       (None, 48, 64, 256)       590080    \n",
      "                                                                 \n",
      " block3_conv3 (Conv2D)       (None, 48, 64, 256)       590080    \n",
      "                                                                 \n",
      " block3_pool (MaxPooling2D)  (None, 24, 32, 256)       0         \n",
      "                                                                 \n",
      " block4_conv1 (Conv2D)       (None, 24, 32, 512)       1180160   \n",
      "                                                                 \n",
      " block4_conv2 (Conv2D)       (None, 24, 32, 512)       2359808   \n",
      "                                                                 \n",
      " block4_conv3 (Conv2D)       (None, 24, 32, 512)       2359808   \n",
      "                                                                 \n",
      " block4_pool (MaxPooling2D)  (None, 12, 16, 512)       0         \n",
      "                                                                 \n",
      " block5_conv1 (Conv2D)       (None, 12, 16, 512)       2359808   \n",
      "                                                                 \n",
      " block5_conv2 (Conv2D)       (None, 12, 16, 512)       2359808   \n",
      "                                                                 \n",
      " block5_conv3 (Conv2D)       (None, 12, 16, 512)       2359808   \n",
      "                                                                 \n",
      " block5_pool (MaxPooling2D)  (None, 6, 8, 512)         0         \n",
      "                                                                 \n",
      " global_max_pooling2d (Glob  (None, 512)               0         \n",
      " alMaxPooling2D)                                                 \n",
      "                                                                 \n",
      " dense (Dense)               (None, 512)               262656    \n",
      "                                                                 \n",
      " dropout (Dropout)           (None, 512)               0         \n",
      "                                                                 \n",
      " dense_1 (Dense)             (None, 7)                 3591      \n",
      "                                                                 \n",
      "=================================================================\n",
      "Total params: 14980935 (57.15 MB)\n",
      "Trainable params: 7345671 (28.02 MB)\n",
      "Non-trainable params: 7635264 (29.13 MB)\n",
      "_________________________________________________________________\n"
     ]
    }
   ],
   "source": [
    "model.summary()"
   ]
  },
  {
   "cell_type": "markdown",
   "metadata": {},
   "source": [
    "By setting the last convolutional block to trainable, we are now retraining for half of the hyperparameters"
   ]
  },
  {
   "cell_type": "code",
   "execution_count": 21,
   "metadata": {},
   "outputs": [],
   "source": [
    "learning_rate_reduction = ReduceLROnPlateau(monitor='val_accuracy', patience = 3, verbose=1, factor=0.5, min_lr=0.00001,cooldown=3)"
   ]
  },
  {
   "cell_type": "code",
   "execution_count": 22,
   "metadata": {},
   "outputs": [
    {
     "name": "stderr",
     "output_type": "stream",
     "text": [
      "C:\\Users\\janar\\AppData\\Local\\Temp\\ipykernel_6228\\3251683874.py:3: UserWarning: `Model.fit_generator` is deprecated and will be removed in a future version. Please use `Model.fit`, which supports generators.\n",
      "  history = model.fit_generator(train_datagen.flow(X_train,y_train, batch_size=batch_size),\n"
     ]
    },
    {
     "name": "stdout",
     "output_type": "stream",
     "text": [
      "Epoch 1/30\n",
      "126/126 [==============================] - 773s 6s/step - loss: 1.1628 - accuracy: 0.6604 - val_loss: 1.0401 - val_accuracy: 0.6540 - lr: 0.0010\n",
      "Epoch 2/30\n",
      "126/126 [==============================] - 798s 6s/step - loss: 0.9875 - accuracy: 0.6673 - val_loss: 0.9494 - val_accuracy: 0.6607 - lr: 0.0010\n",
      "Epoch 3/30\n",
      "126/126 [==============================] - 799s 6s/step - loss: 0.9356 - accuracy: 0.6742 - val_loss: 0.9662 - val_accuracy: 0.6540 - lr: 0.0010\n",
      "Epoch 4/30\n",
      "126/126 [==============================] - 814s 6s/step - loss: 0.8756 - accuracy: 0.6907 - val_loss: 0.8433 - val_accuracy: 0.6741 - lr: 0.0010\n",
      "Epoch 5/30\n",
      "126/126 [==============================] - 816s 6s/step - loss: 0.8247 - accuracy: 0.6991 - val_loss: 0.8264 - val_accuracy: 0.6942 - lr: 0.0010\n",
      "Epoch 6/30\n",
      "126/126 [==============================] - 819s 6s/step - loss: 0.7958 - accuracy: 0.7100 - val_loss: 0.7483 - val_accuracy: 0.6786 - lr: 0.0010\n",
      "Epoch 7/30\n",
      "126/126 [==============================] - 815s 6s/step - loss: 0.7659 - accuracy: 0.7215 - val_loss: 0.8192 - val_accuracy: 0.6920 - lr: 0.0010\n",
      "Epoch 8/30\n",
      "126/126 [==============================] - 820s 7s/step - loss: 0.7457 - accuracy: 0.7200 - val_loss: 0.8156 - val_accuracy: 0.7210 - lr: 0.0010\n",
      "Epoch 9/30\n",
      "126/126 [==============================] - 808s 6s/step - loss: 0.7254 - accuracy: 0.7344 - val_loss: 0.8390 - val_accuracy: 0.6853 - lr: 0.0010\n",
      "Epoch 10/30\n",
      "126/126 [==============================] - 782s 6s/step - loss: 0.7238 - accuracy: 0.7363 - val_loss: 0.7544 - val_accuracy: 0.7277 - lr: 0.0010\n",
      "Epoch 11/30\n",
      "126/126 [==============================] - 784s 6s/step - loss: 0.7077 - accuracy: 0.7385 - val_loss: 0.6894 - val_accuracy: 0.7522 - lr: 0.0010\n",
      "Epoch 12/30\n",
      "126/126 [==============================] - 789s 6s/step - loss: 0.6984 - accuracy: 0.7521 - val_loss: 0.7524 - val_accuracy: 0.7344 - lr: 0.0010\n",
      "Epoch 13/30\n",
      "126/126 [==============================] - 783s 6s/step - loss: 0.6789 - accuracy: 0.7506 - val_loss: 0.7146 - val_accuracy: 0.7522 - lr: 0.0010\n",
      "Epoch 14/30\n",
      "126/126 [==============================] - 786s 6s/step - loss: 0.6681 - accuracy: 0.7539 - val_loss: 0.7666 - val_accuracy: 0.7545 - lr: 0.0010\n",
      "Epoch 15/30\n",
      "126/126 [==============================] - 785s 6s/step - loss: 0.6607 - accuracy: 0.7602 - val_loss: 0.7299 - val_accuracy: 0.7679 - lr: 0.0010\n",
      "Epoch 16/30\n",
      "126/126 [==============================] - 792s 6s/step - loss: 0.6525 - accuracy: 0.7608 - val_loss: 0.7674 - val_accuracy: 0.7500 - lr: 0.0010\n",
      "Epoch 17/30\n",
      "126/126 [==============================] - 800s 6s/step - loss: 0.6503 - accuracy: 0.7609 - val_loss: 0.8052 - val_accuracy: 0.7254 - lr: 0.0010\n",
      "Epoch 18/30\n",
      "126/126 [==============================] - ETA: 0s - loss: 0.6312 - accuracy: 0.7738\n",
      "Epoch 18: ReduceLROnPlateau reducing learning rate to 0.0005000000237487257.\n",
      "126/126 [==============================] - 799s 6s/step - loss: 0.6312 - accuracy: 0.7738 - val_loss: 0.6970 - val_accuracy: 0.7634 - lr: 0.0010\n",
      "Epoch 19/30\n",
      "126/126 [==============================] - 799s 6s/step - loss: 0.6052 - accuracy: 0.7779 - val_loss: 0.6554 - val_accuracy: 0.7656 - lr: 5.0000e-04\n",
      "Epoch 20/30\n",
      "126/126 [==============================] - 796s 6s/step - loss: 0.5800 - accuracy: 0.7923 - val_loss: 0.7713 - val_accuracy: 0.7321 - lr: 5.0000e-04\n",
      "Epoch 21/30\n",
      "126/126 [==============================] - 798s 6s/step - loss: 0.5695 - accuracy: 0.7890 - val_loss: 0.7311 - val_accuracy: 0.7500 - lr: 5.0000e-04\n",
      "Epoch 22/30\n",
      "126/126 [==============================] - 797s 6s/step - loss: 0.5606 - accuracy: 0.7957 - val_loss: 0.6708 - val_accuracy: 0.7612 - lr: 5.0000e-04\n",
      "Epoch 23/30\n",
      "126/126 [==============================] - 795s 6s/step - loss: 0.5609 - accuracy: 0.7935 - val_loss: 0.6452 - val_accuracy: 0.7790 - lr: 5.0000e-04\n",
      "Epoch 24/30\n",
      "126/126 [==============================] - 795s 6s/step - loss: 0.5574 - accuracy: 0.8002 - val_loss: 0.6928 - val_accuracy: 0.7746 - lr: 5.0000e-04\n",
      "Epoch 25/30\n",
      "126/126 [==============================] - 794s 6s/step - loss: 0.5504 - accuracy: 0.8023 - val_loss: 0.7210 - val_accuracy: 0.7500 - lr: 5.0000e-04\n",
      "Epoch 26/30\n",
      "126/126 [==============================] - ETA: 0s - loss: 0.5357 - accuracy: 0.8037\n",
      "Epoch 26: ReduceLROnPlateau reducing learning rate to 0.0002500000118743628.\n",
      "126/126 [==============================] - 796s 6s/step - loss: 0.5357 - accuracy: 0.8037 - val_loss: 0.6324 - val_accuracy: 0.7768 - lr: 5.0000e-04\n",
      "Epoch 27/30\n",
      "126/126 [==============================] - 795s 6s/step - loss: 0.5113 - accuracy: 0.8110 - val_loss: 0.6682 - val_accuracy: 0.7656 - lr: 2.5000e-04\n",
      "Epoch 28/30\n",
      "126/126 [==============================] - 802s 6s/step - loss: 0.4945 - accuracy: 0.8120 - val_loss: 0.7189 - val_accuracy: 0.7567 - lr: 2.5000e-04\n",
      "Epoch 29/30\n",
      "126/126 [==============================] - 796s 6s/step - loss: 0.5097 - accuracy: 0.8126 - val_loss: 0.6376 - val_accuracy: 0.7812 - lr: 2.5000e-04\n",
      "Epoch 30/30\n",
      "126/126 [==============================] - 811s 6s/step - loss: 0.4923 - accuracy: 0.8138 - val_loss: 0.6978 - val_accuracy: 0.7679 - lr: 2.5000e-04\n"
     ]
    }
   ],
   "source": [
    "batch_size = 64\n",
    "epochs = 30\n",
    "history = model.fit_generator(train_datagen.flow(X_train,y_train, batch_size=batch_size),\n",
    "                              epochs = epochs, validation_data = val_datagen.flow(X_val, y_val),\n",
    "                              verbose = 1, steps_per_epoch=(X_train.shape[0] // batch_size),\n",
    "                              validation_steps=(X_val.shape[0] // batch_size), callbacks=[learning_rate_reduction])"
   ]
  },
  {
   "cell_type": "code",
   "execution_count": 23,
   "metadata": {},
   "outputs": [
    {
     "name": "stdout",
     "output_type": "stream",
     "text": [
      "29/29 [==============================] - 66s 2s/step - loss: 0.6775 - accuracy: 0.7583\n",
      "Validation: accuracy = 0.758315  ;  loss_v = 0.677486\n"
     ]
    }
   ],
   "source": [
    "loss_val, acc_val = model.evaluate(X_val, y_val, verbose=1)\n",
    "print(\"Validation: accuracy = %f  ;  loss_v = %f\" % (acc_val, loss_val))"
   ]
  },
  {
   "cell_type": "markdown",
   "metadata": {},
   "source": [
    "Our model clearly overfits the training dataset. But we do observe some improvement with validation accuracy, which is clearly better than the baseline model! Having around 3% improvement from the baseline model justifies some more training time. This improvement proves that weights of pretrained model learned from ImageNet generalize to our dataset, which is completely different from ImageNet. "
   ]
  },
  {
   "cell_type": "markdown",
   "metadata": {},
   "source": [
    "## Testing"
   ]
  },
  {
   "cell_type": "code",
   "execution_count": 24,
   "metadata": {},
   "outputs": [],
   "source": [
    "X_test = np.load(\"256_192_test.npy\")"
   ]
  },
  {
   "cell_type": "code",
   "execution_count": 25,
   "metadata": {},
   "outputs": [],
   "source": [
    "y_test = np.load(\"test_labels.npy\")\n",
    "y_test = to_categorical(y_test)"
   ]
  },
  {
   "cell_type": "code",
   "execution_count": 26,
   "metadata": {},
   "outputs": [
    {
     "name": "stdout",
     "output_type": "stream",
     "text": [
      "32/32 [==============================] - 75s 2s/step - loss: 0.7435 - accuracy: 0.7665\n",
      "Test: accuracy = 0.766467  ;  loss = 0.743533\n"
     ]
    }
   ],
   "source": [
    "loss_test, acc_test = model.evaluate(X_test, y_test, verbose=1)\n",
    "print(\"Test: accuracy = %f  ;  loss = %f\" % (acc_test, loss_test))"
   ]
  },
  {
   "cell_type": "code",
   "execution_count": 27,
   "metadata": {},
   "outputs": [],
   "source": [
    "# Function to plot confusion matrix    \n",
    "def plot_confusion_matrix(cm, classes,\n",
    "                          normalize=False,\n",
    "                          title='Confusion matrix',\n",
    "                          cmap=plt.cm.Blues):\n",
    "\n",
    "    plt.imshow(cm, interpolation='nearest', cmap=cmap)\n",
    "    plt.title(title)\n",
    "    plt.colorbar()\n",
    "    tick_marks = np.arange(len(classes))\n",
    "    plt.xticks(tick_marks, classes, rotation=45)\n",
    "    plt.yticks(tick_marks, classes)\n",
    "\n",
    "    if normalize:\n",
    "        cm = cm.astype('float') / cm.sum(axis=1)[:, np.newaxis]\n",
    "\n",
    "    thresh = cm.max() / 2.\n",
    "    for i, j in itertools.product(range(cm.shape[0]), range(cm.shape[1])):\n",
    "        plt.text(j, i, cm[i, j],\n",
    "                 horizontalalignment=\"center\",\n",
    "                 color=\"white\" if cm[i, j] > thresh else \"black\")\n",
    "\n",
    "    plt.tight_layout()\n",
    "    plt.ylabel('True label')\n",
    "    plt.xlabel('Predicted label')"
   ]
  },
  {
   "cell_type": "code",
   "execution_count": 28,
   "metadata": {},
   "outputs": [
    {
     "name": "stdout",
     "output_type": "stream",
     "text": [
      "29/29 [==============================] - 70s 2s/step\n",
      "Classification report for classifier <keras.src.engine.functional.Functional object at 0x0000017D1FC3DD90>:\n",
      "              precision    recall  f1-score   support\n",
      "\n",
      "     class 0       0.52      0.36      0.43        33\n",
      "     class 1       0.68      0.37      0.48        51\n",
      "     class 2       0.49      0.55      0.52        96\n",
      "     class 3       0.50      0.11      0.18         9\n",
      "     class 4       0.86      0.92      0.89       600\n",
      "     class 5       0.80      0.57      0.67        14\n",
      "     class 6       0.46      0.41      0.43        99\n",
      "\n",
      "    accuracy                           0.76       902\n",
      "   macro avg       0.61      0.47      0.51       902\n",
      "weighted avg       0.75      0.76      0.75       902\n",
      "\n",
      "\n"
     ]
    },
    {
     "data": {
      "image/png": "[encoded data removed]",
      "text/plain": [
       "<Figure size 640x480 with 2 Axes>"
      ]
     },
     "metadata": {},
     "output_type": "display_data"
    }
   ],
   "source": [
    "from sklearn import metrics\n",
    "from sklearn.metrics import confusion_matrix\n",
    "import itertools\n",
    "\n",
    "# Predict the values from the validation dataset\n",
    "Y_pred = model.predict(X_val)\n",
    "# Convert predictions classes to one hot vectors \n",
    "Y_pred_classes = np.argmax(Y_pred,axis = 1) \n",
    "# Convert validation observations to one hot vectors\n",
    "Y_true = np.argmax(y_val,axis = 1) \n",
    "# compute the confusion matrix\n",
    "confusion_mtx = confusion_matrix(Y_true, Y_pred_classes)\n",
    "\n",
    "# plot the confusion matrix\n",
    "plot_confusion_matrix(confusion_mtx, classes = range(7)) \n",
    "plt.xlabel('True Label')\n",
    "plt.ylabel('Fraction classified incorrectly')\n",
    "\n",
    "#Show Classification report\n",
    "target_names = ['class 0', 'class 1', 'class 2','class 3', 'class 4', \n",
    "                'class 5', 'class 6']\n",
    "print(\"Classification report for classifier %s:\\n%s\\n\"\n",
    "      % (model, metrics.classification_report(Y_true, Y_pred_classes, target_names = target_names)))"
   ]
  },
  {
   "cell_type": "code",
   "execution_count": 29,
   "metadata": {},
   "outputs": [
    {
     "name": "stderr",
     "output_type": "stream",
     "text": [
      "C:\\Users\\janar\\AppData\\Roaming\\Python\\Python311\\site-packages\\keras\\src\\engine\\training.py:3103: UserWarning: You are saving your model as an HDF5 file via `model.save()`. This file format is considered legacy. We recommend using instead the native Keras format, e.g. `model.save('my_model.keras')`.\n",
      "  saving_api.save_model(\n"
     ]
    }
   ],
   "source": [
    "model.save(\"VGG16.h5\")"
   ]
  },
  {
   "cell_type": "code",
   "execution_count": 30,
   "metadata": {},
   "outputs": [
    {
     "data": {
      "text/plain": [
       "Text(0.5, 1.0, 'Training and validation loss')"
      ]
     },
     "execution_count": 30,
     "metadata": {},
     "output_type": "execute_result"
    },
    {
     "data": {
      "image/png": "[encoded data removed]",
      "text/plain": [
       "<Figure size 640x480 with 1 Axes>"
      ]
     },
     "metadata": {},
     "output_type": "display_data"
    },
    {
     "data": {
      "image/png": "[encoded data removed]",
      "text/plain": [
       "<Figure size 640x480 with 1 Axes>"
      ]
     },
     "metadata": {},
     "output_type": "display_data"
    }
   ],
   "source": [
    "# Retrieve a list of accuracy results on training and test data\n",
    "# sets for each training epoch\n",
    "acc = history.history['accuracy']\n",
    "val_acc = history.history['val_accuracy']\n",
    "\n",
    "# Retrieve a list of list results on training and test data\n",
    "# sets for each training epoch\n",
    "loss = history.history['loss']\n",
    "val_loss = history.history['val_loss']\n",
    "\n",
    "# Get number of epochs\n",
    "epochs = range(len(acc))\n",
    "\n",
    "# Plot training and validation accuracy per epoch\n",
    "plt.plot(epochs, acc, label = \"training\")\n",
    "plt.plot(epochs, val_acc, label = \"validation\")\n",
    "plt.legend(loc=\"upper left\")\n",
    "plt.title('Training and validation accuracy')\n",
    "\n",
    "plt.figure()\n",
    "\n",
    "# Plot training and validation loss per epoch\n",
    "plt.plot(epochs, loss, label = \"training\")\n",
    "plt.plot(epochs, val_loss, label = \"validation\")\n",
    "plt.legend(loc=\"upper right\")\n",
    "plt.title('Training and validation loss')"
   ]
  }
 ],
 "metadata": {
  "kernelspec": {
   "display_name": "Python 3",
   "language": "python",
   "name": "python3"
  },
  "language_info": {
   "codemirror_mode": {
    "name": "ipython",
    "version": 3
   },
   "file_extension": ".py",
   "mimetype": "text/x-python",
   "name": "python",
   "nbconvert_exporter": "python",
   "pygments_lexer": "ipython3",
   "version": "3.11.0"
  }
 },
 "nbformat": 4,
 "nbformat_minor": 2
}
